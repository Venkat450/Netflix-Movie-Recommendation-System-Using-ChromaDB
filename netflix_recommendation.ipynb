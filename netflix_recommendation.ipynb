{
 "cells": [
  {
   "cell_type": "markdown",
   "metadata": {},
   "source": [
    "# **Netflix Movie Recommendation System Using ChromaDB**"
   ]
  },
  {
   "cell_type": "code",
   "execution_count": 4,
   "metadata": {},
   "outputs": [],
   "source": [
    "# Install dependencies (Uncomment and run if not installed)\n",
    "# !pip install pandas chromadb datasets sentence-transformers\n",
    "\n",
    "import pandas as pd\n",
    "import chromadb\n",
    "from chromadb.utils import embedding_functions\n",
    "from sentence_transformers import SentenceTransformer\n",
    "import os\n",
    "import numpy as np\n",
    "import pandas as pd\n",
    "import chromadb\n",
    "import openai\n",
    "import os"
   ]
  },
  {
   "cell_type": "markdown",
   "metadata": {},
   "source": [
    "## **1. Initialize ChromaDB and Create a Collection**"
   ]
  },
  {
   "cell_type": "code",
   "execution_count": null,
   "metadata": {},
   "outputs": [
    {
     "name": "stdout",
     "output_type": "stream",
     "text": [
      "✅ Embeddings stored using Sentence Transformers.\n",
      "{'ids': [['538', '128', '481', '398', '532']], 'embeddings': None, 'documents': [['Romance, rivalry and radical mystery collide as a group of teens attend a remote island sleepaway camp in this suspenseful, supernatural drama.', \"When a detective investigates the death of his ex-lover's grandfather, he uncovers secrets about the tycoon's manipulative family.\", 'In a world where humans and superheroes coexist, a lone wolf cop teams up with a bright detective to dismantle a dark plot to extract superpowers.', 'Tragedy, betrayal and a mysterious discovery fuel a woman\\'s vengeance for the loss of her tribe and family in this special episode of \"Kingdom.\"', 'In this new TV series sequel to the classic horror franchise, a cyberbullying incident in Lakewood leads to a murder with chilling echoes of the past.']], 'uris': None, 'data': None, 'metadatas': [[None, None, None, None, None]], 'distances': [[0.9494847655296326, 1.008953332901001, 1.030808448791504, 1.066085696220398, 1.090324878692627]], 'included': [<IncludeEnum.distances: 'distances'>, <IncludeEnum.documents: 'documents'>, <IncludeEnum.metadatas: 'metadatas'>]}\n"
     ]
    }
   ],
   "source": [
    "from sentence_transformers import SentenceTransformer\n",
    "import chromadb\n",
    "import pandas as pd\n",
    "\n",
    "# Load SentenceTransformer model\n",
    "embedding_model = SentenceTransformer(\"all-MiniLM-L6-v2\")\n",
    "\n",
    "# Initialize ChromaDB Persistent Client\n",
    "client = chromadb.PersistentClient(path=\"data\")\n",
    "\n",
    "# Use get_or_create to avoid duplicates\n",
    "collection = client.get_or_create_collection(name=\"netflix_titles\")\n",
    "\n",
    "\n",
    "# Load CSV\n",
    "csv_path = \"data/netflix_titles_1000.csv\"  # Adjust path if needed\n",
    "df = pd.read_csv(csv_path)\n",
    "\n",
    "# Ensure the required column exists\n",
    "if \"description\" not in df.columns:\n",
    "    raise ValueError(\"The CSV file does not contain a 'description' column.\")\n",
    "\n",
    "# Generate embeddings and store them in ChromaDB\n",
    "for idx, row in df.iterrows():\n",
    "    embedding = embedding_model.encode(str(row[\"description\"])).tolist()\n",
    "\n",
    "    collection.add(\n",
    "        ids=[str(idx)],\n",
    "        documents=[row[\"description\"]],\n",
    "        embeddings=[embedding]\n",
    "    )\n",
    "\n",
    "print(\"✅ Embeddings stored using Sentence Transformers.\")\n",
    "\n",
    "# Function to retrieve embeddings\n",
    "def get_embedding(text):\n",
    "    return embedding_model.encode(text).tolist()\n",
    "\n",
    "# Example query\n",
    "query_text = \"A thrilling mystery series\"\n",
    "query_embedding = get_embedding(query_text)\n",
    "\n",
    "# Search in ChromaDB\n",
    "results = collection.query(query_embeddings=[query_embedding], n_results=5)\n",
    "print(results)\n"
   ]
  },
  {
   "cell_type": "code",
   "execution_count": 26,
   "metadata": {},
   "outputs": [
    {
     "name": "stdout",
     "output_type": "stream",
     "text": [
      "                       title                                                                                                                                                                                                                                                       cast rating                                                                                                                                             description\n",
      "            The Walking Dead Andrew Lincoln, Steven Yeun, Norman Reedus, Chandler Riggs, Melissa McBride, Lauren Cohan, Danai Gurira, Alanna Masterson, Sonequa Martin-Green, Josh McDermitt, Christian Serratos, Seth Gilliam, Ross Marquand, Lennie James, Emily Kinney, Jon Bernthal  TV-MA               In the wake of a zombie apocalypse, survivors hold on to the hope of humanity by banding together to wage a fight for their own survival.\n",
      "      A Classic Horror Story                                                                                                                  Matilda Lutz, Francesco Russo, Peppino Mazzotta, Will Merrick, Yuliia Sobol, Alida Baldari Calabria, Cristina Donadio, Francesca Cavallin  TV-MA In this gruesome suspense film, strangers traveling in southern Italy become stranded in the woods, where they must fight desperately to get out alive.\n",
      "    Fear Street Part 2: 1978                                                Sadie Sink, Emily Rudd, Ryan Simpkins, McCabe Slye, Ted Sutherland, Jordana Spiro, Gillian Jacobs, Kiana Madeira, Benjamin Flores Jr., Ashley Zukerman, Olivia Scott Welch, Chiara Aurelia, Jordyn DiNatale      R        In the cursed town of Shadyside, a killer's murder spree terrorizes Camp Nightwing and turns a summer of fun into a gruesome fight for survival.\n",
      "                Black Summer                                                                                                        Jaime King, Justin Chu Cary, Christine Lee, Sal Velez Jr., Kelsey Flower, Erika Hau, Edsson Morales, Gwynyth Walsh, Stafford Perry, Mustafa Alabssi  TV-MA  In the dark, early days of a zombie apocalypse, complete strangers band together to find the strength they need to survive and get back to loved ones.\n",
      "Creating an Army of the Dead                                                                                                                                                                                                                                                        NaN  TV-MA             Zack Snyder and his \"Army of the Dead\" team dive into the film's wild stunts, groundbreaking effects and the evolution of the zombie genre.\n"
     ]
    }
   ],
   "source": [
    "def search_netflix(query_text, search_by=\"description\", top_n=5):\n",
    "    \"\"\"\n",
    "    Search for similar Netflix titles based on title or description.\n",
    "\n",
    "    Parameters:\n",
    "        query_text (str): User's input query.\n",
    "        search_by (str): \"title\" or \"description\".\n",
    "        top_n (int): Number of results to return.\n",
    "\n",
    "    Returns:\n",
    "        DataFrame: Top matching results in a table format.\n",
    "    \"\"\"\n",
    "    # If searching by title, find the description first\n",
    "    if search_by == \"title\":\n",
    "        match = df[df[\"title\"].str.contains(query_text, case=False, na=False)]\n",
    "        if match.empty:\n",
    "            print(\"No matching title found.\")\n",
    "            return None\n",
    "        query_text = match.iloc[0][\"description\"]  # Use description for embedding search\n",
    "\n",
    "    # Query ChromaDB\n",
    "    \n",
    "    results = collection.query(query_embeddings=[get_embedding(query_text)], n_results=top_n)\n",
    "\n",
    "    # Extract matching document IDs\n",
    "    ids = results[\"ids\"][0]\n",
    "\n",
    "    # Retrieve matching rows from the original CSV\n",
    "    matching_rows = df.loc[df.index.isin(map(int, ids))]\n",
    "\n",
    "    # Select required columns for display\n",
    "    display_columns = [\"title\", \"cast\", \"rating\", \"description\"]\n",
    "    matching_rows = matching_rows[display_columns]\n",
    "\n",
    "    return matching_rows\n",
    "\n",
    "# User input choice\n",
    "search_type = input(\"Search by (title/description): \").strip().lower()\n",
    "query_text = input(\"Enter search query: \").strip()\n",
    "\n",
    "# Get results\n",
    "results_df = search_netflix(query_text, search_by=search_type)\n",
    "\n",
    "# Display table if results are found\n",
    "if results_df is not None:\n",
    "    print(results_df.to_string(index=False))  # Prints table format in terminal"
   ]
  }
 ],
 "metadata": {
  "kernelspec": {
   "display_name": "venv",
   "language": "python",
   "name": "python3"
  },
  "language_info": {
   "codemirror_mode": {
    "name": "ipython",
    "version": 3
   },
   "file_extension": ".py",
   "mimetype": "text/x-python",
   "name": "python",
   "nbconvert_exporter": "python",
   "pygments_lexer": "ipython3",
   "version": "3.11.9"
  }
 },
 "nbformat": 4,
 "nbformat_minor": 4
}
